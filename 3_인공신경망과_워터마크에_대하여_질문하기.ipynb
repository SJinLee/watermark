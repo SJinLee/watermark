{
  "nbformat": 4,
  "nbformat_minor": 0,
  "metadata": {
    "colab": {
      "provenance": [],
      "mount_file_id": "1URDQKflzQ1knIP7CaxXnYm4ve_fzeBaV",
      "authorship_tag": "ABX9TyPH+PYg+RWzo8mGgae02FaJ",
      "include_colab_link": true
    },
    "kernelspec": {
      "name": "python3",
      "display_name": "Python 3"
    },
    "language_info": {
      "name": "python"
    }
  },
  "cells": [
    {
      "cell_type": "markdown",
      "metadata": {
        "id": "view-in-github",
        "colab_type": "text"
      },
      "source": [
        "<a href=\"https://colab.research.google.com/github/SJinLee/watermark/blob/main/3_%EC%9D%B8%EA%B3%B5%EC%8B%A0%EA%B2%BD%EB%A7%9D%EA%B3%BC_%EC%9B%8C%ED%84%B0%EB%A7%88%ED%81%AC%EC%97%90_%EB%8C%80%ED%95%98%EC%97%AC_%EC%A7%88%EB%AC%B8%ED%95%98%EA%B8%B0.ipynb\" target=\"_parent\"><img src=\"https://colab.research.google.com/assets/colab-badge.svg\" alt=\"Open In Colab\"/></a>"
      ]
    },
    {
      "cell_type": "markdown",
      "source": [
        "* mount google drive\n",
        "* 질문 이어서 하기 구현\n",
        "    * https://platform.openai.com/docs/overview"
      ],
      "metadata": {
        "id": "twJxbFPnNyO6"
      }
    },
    {
      "cell_type": "code",
      "source": [
        "def make_prompt(scenario):\n",
        "    prompt = f\"\"\"인공신경망을 이용하여 워터마크를 삽입하고 추출하도록\n",
        "모델을 만들고 학습하는 것을 연구하는 것을 목적으로 하고 있습니다.\n",
        "인공신경망과 모델만드는 것을 처음 해보는 중이므로 주어진 질문 또는 문장에\n",
        "친절하고 자세하게 설명해주면 좋겠습니다. 다음에 대하여 대답해주세요.\n",
        "\n",
        "statement: {scenario}\n",
        "\"\"\"\n",
        "    return prompt"
      ],
      "metadata": {
        "id": "cjo_28PIP2O_"
      },
      "execution_count": null,
      "outputs": []
    },
    {
      "cell_type": "code",
      "source": [
        "!pip install --upgrade openai"
      ],
      "metadata": {
        "colab": {
          "base_uri": "https://localhost:8080/"
        },
        "id": "_2EiR_FMQtSq",
        "outputId": "6f9f8d82-813e-43f3-f399-4c56d456eef9"
      },
      "execution_count": null,
      "outputs": [
        {
          "output_type": "stream",
          "name": "stdout",
          "text": [
            "Requirement already satisfied: openai in /usr/local/lib/python3.11/dist-packages (1.70.0)\n",
            "Collecting openai\n",
            "  Downloading openai-1.72.0-py3-none-any.whl.metadata (25 kB)\n",
            "Requirement already satisfied: anyio<5,>=3.5.0 in /usr/local/lib/python3.11/dist-packages (from openai) (4.9.0)\n",
            "Requirement already satisfied: distro<2,>=1.7.0 in /usr/local/lib/python3.11/dist-packages (from openai) (1.9.0)\n",
            "Requirement already satisfied: httpx<1,>=0.23.0 in /usr/local/lib/python3.11/dist-packages (from openai) (0.28.1)\n",
            "Requirement already satisfied: jiter<1,>=0.4.0 in /usr/local/lib/python3.11/dist-packages (from openai) (0.9.0)\n",
            "Requirement already satisfied: pydantic<3,>=1.9.0 in /usr/local/lib/python3.11/dist-packages (from openai) (2.11.2)\n",
            "Requirement already satisfied: sniffio in /usr/local/lib/python3.11/dist-packages (from openai) (1.3.1)\n",
            "Requirement already satisfied: tqdm>4 in /usr/local/lib/python3.11/dist-packages (from openai) (4.67.1)\n",
            "Requirement already satisfied: typing-extensions<5,>=4.11 in /usr/local/lib/python3.11/dist-packages (from openai) (4.13.1)\n",
            "Requirement already satisfied: idna>=2.8 in /usr/local/lib/python3.11/dist-packages (from anyio<5,>=3.5.0->openai) (3.10)\n",
            "Requirement already satisfied: certifi in /usr/local/lib/python3.11/dist-packages (from httpx<1,>=0.23.0->openai) (2025.1.31)\n",
            "Requirement already satisfied: httpcore==1.* in /usr/local/lib/python3.11/dist-packages (from httpx<1,>=0.23.0->openai) (1.0.7)\n",
            "Requirement already satisfied: h11<0.15,>=0.13 in /usr/local/lib/python3.11/dist-packages (from httpcore==1.*->httpx<1,>=0.23.0->openai) (0.14.0)\n",
            "Requirement already satisfied: annotated-types>=0.6.0 in /usr/local/lib/python3.11/dist-packages (from pydantic<3,>=1.9.0->openai) (0.7.0)\n",
            "Requirement already satisfied: pydantic-core==2.33.1 in /usr/local/lib/python3.11/dist-packages (from pydantic<3,>=1.9.0->openai) (2.33.1)\n",
            "Requirement already satisfied: typing-inspection>=0.4.0 in /usr/local/lib/python3.11/dist-packages (from pydantic<3,>=1.9.0->openai) (0.4.0)\n",
            "Downloading openai-1.72.0-py3-none-any.whl (643 kB)\n",
            "\u001b[2K   \u001b[90m━━━━━━━━━━━━━━━━━━━━━━━━━━━━━━━━━━━━━━━━\u001b[0m \u001b[32m643.9/643.9 kB\u001b[0m \u001b[31m10.2 MB/s\u001b[0m eta \u001b[36m0:00:00\u001b[0m\n",
            "\u001b[?25hInstalling collected packages: openai\n",
            "  Attempting uninstall: openai\n",
            "    Found existing installation: openai 1.70.0\n",
            "    Uninstalling openai-1.70.0:\n",
            "      Successfully uninstalled openai-1.70.0\n",
            "Successfully installed openai-1.72.0\n"
          ]
        }
      ]
    },
    {
      "cell_type": "code",
      "source": [
        "import os\n",
        "os.environ['OPENAI_API_KEY'] = ''"
      ],
      "metadata": {
        "id": "hncg0sS5QwC4"
      },
      "execution_count": null,
      "outputs": []
    },
    {
      "cell_type": "code",
      "source": [
        "from openai import OpenAI\n",
        "client = OpenAI()"
      ],
      "metadata": {
        "id": "L-dpfSh3QyUK"
      },
      "execution_count": null,
      "outputs": []
    },
    {
      "cell_type": "markdown",
      "source": [
        "* list of models"
      ],
      "metadata": {
        "id": "homqMk5dUrmg"
      }
    },
    {
      "cell_type": "code",
      "source": [
        "modellist = client.models.list()\n",
        "modellist.data"
      ],
      "metadata": {
        "colab": {
          "base_uri": "https://localhost:8080/"
        },
        "id": "Jf6XBdFEEGt5",
        "outputId": "5ba873f3-1b4f-455d-8f0b-6861a919b7e2"
      },
      "execution_count": null,
      "outputs": [
        {
          "output_type": "execute_result",
          "data": {
            "text/plain": [
              "[Model(id='gpt-4o-audio-preview-2024-12-17', created=1734034239, object='model', owned_by='system'),\n",
              " Model(id='dall-e-3', created=1698785189, object='model', owned_by='system'),\n",
              " Model(id='dall-e-2', created=1698798177, object='model', owned_by='system'),\n",
              " Model(id='gpt-4o-audio-preview-2024-10-01', created=1727389042, object='model', owned_by='system'),\n",
              " Model(id='gpt-4o-realtime-preview-2024-10-01', created=1727131766, object='model', owned_by='system'),\n",
              " Model(id='gpt-4o-realtime-preview', created=1727659998, object='model', owned_by='system'),\n",
              " Model(id='babbage-002', created=1692634615, object='model', owned_by='system'),\n",
              " Model(id='tts-1-hd-1106', created=1699053533, object='model', owned_by='system'),\n",
              " Model(id='o3-mini-2025-01-31', created=1738010200, object='model', owned_by='system'),\n",
              " Model(id='text-embedding-3-large', created=1705953180, object='model', owned_by='system'),\n",
              " Model(id='gpt-4', created=1687882411, object='model', owned_by='openai'),\n",
              " Model(id='text-embedding-ada-002', created=1671217299, object='model', owned_by='openai-internal'),\n",
              " Model(id='o1-pro-2025-03-19', created=1742251504, object='model', owned_by='system'),\n",
              " Model(id='tts-1-hd', created=1699046015, object='model', owned_by='system'),\n",
              " Model(id='gpt-4o-mini-audio-preview', created=1734387424, object='model', owned_by='system'),\n",
              " Model(id='gpt-4-0125-preview', created=1706037612, object='model', owned_by='system'),\n",
              " Model(id='gpt-4o-audio-preview', created=1727460443, object='model', owned_by='system'),\n",
              " Model(id='gpt-4-turbo-preview', created=1706037777, object='model', owned_by='system'),\n",
              " Model(id='o1-preview-2024-09-12', created=1725648865, object='model', owned_by='system'),\n",
              " Model(id='o3-mini', created=1737146383, object='model', owned_by='system'),\n",
              " Model(id='gpt-4o-mini-realtime-preview', created=1734387380, object='model', owned_by='system'),\n",
              " Model(id='gpt-4o-mini-realtime-preview-2024-12-17', created=1734112601, object='model', owned_by='system'),\n",
              " Model(id='gpt-3.5-turbo-instruct-0914', created=1694122472, object='model', owned_by='system'),\n",
              " Model(id='gpt-4o-mini-search-preview', created=1741391161, object='model', owned_by='system'),\n",
              " Model(id='o1-2024-12-17', created=1734326976, object='model', owned_by='system'),\n",
              " Model(id='o1-pro', created=1742251791, object='model', owned_by='system'),\n",
              " Model(id='tts-1-1106', created=1699053241, object='model', owned_by='system'),\n",
              " Model(id='o1', created=1734375816, object='model', owned_by='system'),\n",
              " Model(id='davinci-002', created=1692634301, object='model', owned_by='system'),\n",
              " Model(id='gpt-3.5-turbo-1106', created=1698959748, object='model', owned_by='system'),\n",
              " Model(id='gpt-4-turbo', created=1712361441, object='model', owned_by='system'),\n",
              " Model(id='gpt-4o-realtime-preview-2024-12-17', created=1733945430, object='model', owned_by='system'),\n",
              " Model(id='gpt-3.5-turbo-instruct', created=1692901427, object='model', owned_by='system'),\n",
              " Model(id='gpt-3.5-turbo', created=1677610602, object='model', owned_by='openai'),\n",
              " Model(id='chatgpt-4o-latest', created=1723515131, object='model', owned_by='system'),\n",
              " Model(id='gpt-4o-mini-search-preview-2025-03-11', created=1741390858, object='model', owned_by='system'),\n",
              " Model(id='gpt-4o-2024-11-20', created=1739331543, object='model', owned_by='system'),\n",
              " Model(id='whisper-1', created=1677532384, object='model', owned_by='openai-internal'),\n",
              " Model(id='gpt-4o-2024-05-13', created=1715368132, object='model', owned_by='system'),\n",
              " Model(id='gpt-3.5-turbo-16k', created=1683758102, object='model', owned_by='openai-internal'),\n",
              " Model(id='gpt-4-turbo-2024-04-09', created=1712601677, object='model', owned_by='system'),\n",
              " Model(id='gpt-4-1106-preview', created=1698957206, object='model', owned_by='system'),\n",
              " Model(id='o1-preview', created=1725648897, object='model', owned_by='system'),\n",
              " Model(id='gpt-4-0613', created=1686588896, object='model', owned_by='openai'),\n",
              " Model(id='gpt-4o-search-preview', created=1741388720, object='model', owned_by='system'),\n",
              " Model(id='gpt-4.5-preview', created=1740623059, object='model', owned_by='system'),\n",
              " Model(id='gpt-4.5-preview-2025-02-27', created=1740623304, object='model', owned_by='system'),\n",
              " Model(id='gpt-4o-search-preview-2025-03-11', created=1741388170, object='model', owned_by='system'),\n",
              " Model(id='tts-1', created=1681940951, object='model', owned_by='openai-internal'),\n",
              " Model(id='omni-moderation-2024-09-26', created=1732734466, object='model', owned_by='system'),\n",
              " Model(id='text-embedding-3-small', created=1705948997, object='model', owned_by='system'),\n",
              " Model(id='gpt-4o-mini-tts', created=1742403959, object='model', owned_by='system'),\n",
              " Model(id='gpt-4o', created=1715367049, object='model', owned_by='system'),\n",
              " Model(id='gpt-4o-mini', created=1721172741, object='model', owned_by='system'),\n",
              " Model(id='gpt-4o-2024-08-06', created=1722814719, object='model', owned_by='system'),\n",
              " Model(id='gpt-4o-transcribe', created=1742068463, object='model', owned_by='system'),\n",
              " Model(id='gpt-4o-mini-2024-07-18', created=1721172717, object='model', owned_by='system'),\n",
              " Model(id='gpt-4o-mini-transcribe', created=1742068596, object='model', owned_by='system'),\n",
              " Model(id='o1-mini', created=1725649008, object='model', owned_by='system'),\n",
              " Model(id='gpt-4o-mini-audio-preview-2024-12-17', created=1734115920, object='model', owned_by='system'),\n",
              " Model(id='gpt-3.5-turbo-0125', created=1706048358, object='model', owned_by='system'),\n",
              " Model(id='o1-mini-2024-09-12', created=1725648979, object='model', owned_by='system'),\n",
              " Model(id='omni-moderation-latest', created=1731689265, object='model', owned_by='system'),\n",
              " Model(id='davinci:ft-personal-2023-07-03-16-21-03', created=1688401263, object='model', owned_by='user-c5uh7ryk1iomfcsubicywfgq'),\n",
              " Model(id='ada:ft-personal-2023-07-03-16-32-30', created=1688401950, object='model', owned_by='user-c5uh7ryk1iomfcsubicywfgq')]"
            ]
          },
          "metadata": {},
          "execution_count": 13
        }
      ]
    },
    {
      "cell_type": "markdown",
      "source": [
        "* openai에게 질문하는 함수"
      ],
      "metadata": {
        "id": "EkUCOCT2ElDt"
      }
    },
    {
      "cell_type": "code",
      "source": [
        "def ask_openai(client,message,model=\"gpt-4o\"):\n",
        "    completion = client.chat.completions.create(\n",
        "          model=model,\n",
        "          messages=[\n",
        "            #   {\"role\": \"developer\", \"content\": \"You are a helpful assistant.\"},\n",
        "              {\"role\": \"user\", \"content\": message}\n",
        "              ]\n",
        "          )\n",
        "    return completion.choices[0].message"
      ],
      "metadata": {
        "id": "5Wr4uQXvQzzM"
      },
      "execution_count": null,
      "outputs": []
    },
    {
      "cell_type": "markdown",
      "source": [
        "* 질문해보기"
      ],
      "metadata": {
        "id": "k7b4Rr6GEupC"
      }
    },
    {
      "cell_type": "code",
      "source": [
        "message = ask_openai(client,'인공신경망에 대해 설명해줘')"
      ],
      "metadata": {
        "id": "thQVkuV-DUPc"
      },
      "execution_count": null,
      "outputs": []
    },
    {
      "cell_type": "code",
      "source": [
        "print(message.content)"
      ],
      "metadata": {
        "colab": {
          "base_uri": "https://localhost:8080/"
        },
        "id": "fpQ56DmvEUp_",
        "outputId": "3c59afaa-4418-4af8-8da8-476256718bdf"
      },
      "execution_count": null,
      "outputs": [
        {
          "output_type": "stream",
          "name": "stdout",
          "text": [
            "인공신경망(Artificial Neural Network, ANN)은 생물학적 신경망을 모방하여 정보를 처리하는 컴퓨팅 시스템입니다. 인공신경망은 인간의 뇌 구조와 기능에서 영감을 받아 개발되었으며, 특히 학습과 패턴 인식에 특화되어 있습니다.\n",
            "\n",
            "인공신경망의 주요 구성 요소는 노드(Neuron)와 가중치(Weight)입니다. 노드는 생물학적 신경세포를 모방한 것으로, 입력 신호를 받아들여 특정 함수를 통과시킨 후 출력 신호를 생성합니다. 입력 신호는 각각의 가중치와 곱해진 후 노드에 전달되며, 가중치는 네트워크가 학습을 통해 조절하는 주요 파라미터입니다.\n",
            "\n",
            "인공신경망은 여러 계층(layer)으로 구성될 수 있으며, 주로 입력층(Input Layer), 은닉층(Hidden Layer), 출력층(Output Layer)으로 나뉩니다. 각 계층은 여러 개의 노드로 이루어져 있으며, 계층 사이의 모든 노드는 서로 연결되어 있습니다. 다층으로 구성된 인공신경망을 심층 신경망(Deep Neural Network, DNN)이라고도 합니다.\n",
            "\n",
            "인공신경망은 주로 다음과 같은 방식으로 작동합니다:\n",
            "\n",
            "1. **입력 전달**: 입력층에 원시 데이터를 전달합니다.\n",
            "\n",
            "2. **전달 함수와 활성화 함수**: 각 노드는 입력 신호에 가중치를 곱한 값의 합을 계산하고, 활성화 함수(예: ReLU, Sigmoid 등)를 통해 비선형 출력을 생성합니다.\n",
            "\n",
            "3. **출력 생성**: 은닉층을 거쳐 최종 출력층에서 결과를 생성합니다. 출력은 회귀일 수도 있고, 분류일 경우 특정 클래스의 확률일 수도 있습니다.\n",
            "\n",
            "4. **학습(Training)**: 주어진 데이터를 통해 네트워크를 훈련시키는데, 주로 오차 역전파(Backpropagation) 방법을 사용하여 가중치를 조정합니다. 이 과정은 손실 함수(Loss Function)를 최소화하는 방향으로 진행됩니다.\n",
            "\n",
            "인공신경망은 이미지 인식, 자연어 처리, 음성 인식, 자율주행 등 다양한 분야에서 성공적으로 활용되고 있습니다. 특히, 대량의 데이터와 강력한 계산 자원을 활용하여 인간이 해결하기 어려운 복잡한 문제를 풀어내는 데 탁월한 성과를 보이고 있습니다.\n"
          ]
        }
      ]
    },
    {
      "cell_type": "code",
      "source": [],
      "metadata": {
        "id": "eo5jZgIFkXld"
      },
      "execution_count": null,
      "outputs": []
    }
  ]
}