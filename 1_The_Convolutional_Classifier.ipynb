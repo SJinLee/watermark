{
  "metadata": {
    "kernelspec": {
      "display_name": "Python 3",
      "name": "python3"
    },
    "language_info": {
      "name": "python",
      "version": "3.11.11",
      "mimetype": "text/x-python",
      "codemirror_mode": {
        "name": "ipython",
        "version": 3
      },
      "pygments_lexer": "ipython3",
      "nbconvert_exporter": "python",
      "file_extension": ".py"
    },
    "kaggle": {
      "accelerator": "gpu",
      "dataSources": [
        {
          "sourceId": 1338830,
          "sourceType": "datasetVersion",
          "datasetId": 708136
        },
        {
          "sourceId": 1363948,
          "sourceType": "datasetVersion",
          "datasetId": 701538
        },
        {
          "sourceId": 1495782,
          "sourceType": "datasetVersion",
          "datasetId": 878523
        }
      ],
      "isInternetEnabled": false,
      "language": "python",
      "sourceType": "notebook",
      "isGpuEnabled": true
    },
    "colab": {
      "provenance": [],
      "gpuType": "T4",
      "include_colab_link": true
    },
    "accelerator": "GPU"
  },
  "nbformat_minor": 0,
  "nbformat": 4,
  "cells": [
    {
      "cell_type": "markdown",
      "metadata": {
        "id": "view-in-github",
        "colab_type": "text"
      },
      "source": [
        "<a href=\"https://colab.research.google.com/github/SJinLee/watermark/blob/main/1_The_Convolutional_Classifier.ipynb\" target=\"_parent\"><img src=\"https://colab.research.google.com/assets/colab-badge.svg\" alt=\"Open In Colab\"/></a>"
      ]
    },
    {
      "source": [
        "# IMPORTANT: RUN THIS CELL IN ORDER TO IMPORT YOUR KAGGLE DATA SOURCES,\n",
        "# THEN FEEL FREE TO DELETE THIS CELL.\n",
        "# NOTE: THIS NOTEBOOK ENVIRONMENT DIFFERS FROM KAGGLE'S PYTHON\n",
        "# ENVIRONMENT SO THERE MAY BE MISSING LIBRARIES USED BY YOUR\n",
        "# NOTEBOOK.\n",
        "import kagglehub\n",
        "ryanholbrook_cv_course_models_path = kagglehub.dataset_download('ryanholbrook/cv-course-models')\n",
        "ryanholbrook_computer_vision_resources_path = kagglehub.dataset_download('ryanholbrook/computer-vision-resources')\n",
        "ryanholbrook_car_or_truck_path = kagglehub.dataset_download('ryanholbrook/car-or-truck')\n",
        "\n",
        "print('Data source import complete.')\n"
      ],
      "metadata": {
        "id": "a3-Jwq4rLCQ0",
        "outputId": "797dd4cb-db39-4623-b118-9d5c51083647",
        "colab": {
          "base_uri": "https://localhost:8080/"
        }
      },
      "cell_type": "code",
      "outputs": [
        {
          "output_type": "stream",
          "name": "stdout",
          "text": [
            "Data source import complete.\n"
          ]
        }
      ],
      "execution_count": null
    },
    {
      "cell_type": "code",
      "source": [
        "!ls {ryanholbrook_car_or_truck_path}"
      ],
      "metadata": {
        "id": "yg4wzTsWTrQh",
        "outputId": "bd4e7964-54e0-47f1-eb33-0bef2f24d74c",
        "colab": {
          "base_uri": "https://localhost:8080/"
        }
      },
      "execution_count": null,
      "outputs": [
        {
          "output_type": "stream",
          "name": "stdout",
          "text": [
            "train  valid\n"
          ]
        }
      ]
    },
    {
      "cell_type": "markdown",
      "source": [
        "**This notebook is an exercise in the [Computer Vision](https://www.kaggle.com/learn/computer-vision) course.  You can reference the tutorial at [this link](https://www.kaggle.com/ryanholbrook/the-convolutional-classifier).**\n",
        "\n",
        "---\n"
      ],
      "metadata": {
        "id": "4XvUnjTjLCQ3"
      }
    },
    {
      "cell_type": "markdown",
      "source": [
        "# Introduction #\n",
        "\n",
        "In the tutorial, we saw how to build an image classifier by attaching a head of dense layers to a pretrained base. The base we used was from a model called **VGG16**. We saw that the VGG16 architecture was prone to overfitting this dataset. Over this course, you'll learn a number of ways you can improve upon this initial attempt.\n",
        "\n",
        "The first way you'll see is to use a base more appropriate to the dataset. The base this model comes from is called **InceptionV1** (also known as GoogLeNet). InceptionV1 was one of the early winners of the ImageNet competition. One of its successors, InceptionV4, is among the state of the art today.\n",
        "\n",
        "To get started, run the code cell below to set everything up."
      ],
      "metadata": {
        "id": "b31dzD-4LCQ5"
      }
    },
    {
      "cell_type": "code",
      "source": [
        "# Setup feedback system\n",
        "# from learntools.core import binder\n",
        "# binder.bind(globals())\n",
        "# from learntools.computer_vision.ex1 import *\n",
        "\n",
        "# Imports\n",
        "import os, warnings\n",
        "import matplotlib.pyplot as plt\n",
        "from matplotlib import gridspec\n",
        "\n",
        "import numpy as np\n",
        "import tensorflow as tf\n",
        "from tensorflow.keras.preprocessing import image_dataset_from_directory\n",
        "\n",
        "# Reproducability\n",
        "def set_seed(seed=31415):\n",
        "    np.random.seed(seed)\n",
        "    tf.random.set_seed(seed)\n",
        "    os.environ['PYTHONHASHSEED'] = str(seed)\n",
        "    os.environ['TF_DETERMINISTIC_OPS'] = '1'\n",
        "set_seed()\n",
        "\n",
        "# Set Matplotlib defaults\n",
        "plt.rc('figure', autolayout=True)\n",
        "plt.rc('axes', labelweight='bold', labelsize='large',\n",
        "       titleweight='bold', titlesize=18, titlepad=10)\n",
        "plt.rc('image', cmap='magma')\n",
        "warnings.filterwarnings(\"ignore\") # to clean up output cells\n",
        "\n",
        "\n",
        "# Load training and validation sets\n",
        "ds_train_ = image_dataset_from_directory(\n",
        "    f'{ryanholbrook_car_or_truck_path}/train',\n",
        "    labels='inferred',\n",
        "    label_mode='binary',\n",
        "    image_size=[128, 128],\n",
        "    interpolation='nearest',\n",
        "    batch_size=64,\n",
        "    shuffle=True,\n",
        ")\n",
        "ds_valid_ = image_dataset_from_directory(\n",
        "    f'{ryanholbrook_car_or_truck_path}/valid',\n",
        "    labels='inferred',\n",
        "    label_mode='binary',\n",
        "    image_size=[128, 128],\n",
        "    interpolation='nearest',\n",
        "    batch_size=64,\n",
        "    shuffle=False,\n",
        ")\n",
        "\n",
        "# Data Pipeline\n",
        "def convert_to_float(image, label):\n",
        "    image = tf.image.convert_image_dtype(image, dtype=tf.float32)\n",
        "    return image, label\n",
        "\n",
        "AUTOTUNE = tf.data.experimental.AUTOTUNE\n",
        "ds_train = (\n",
        "    ds_train_\n",
        "    .map(convert_to_float)\n",
        "    .cache()\n",
        "    .prefetch(buffer_size=AUTOTUNE)\n",
        ")\n",
        "ds_valid = (\n",
        "    ds_valid_\n",
        "    .map(convert_to_float)\n",
        "    .cache()\n",
        "    .prefetch(buffer_size=AUTOTUNE)\n",
        ")\n"
      ],
      "metadata": {
        "lines_to_next_cell": 2,
        "execution": {
          "iopub.status.busy": "2025-04-12T03:48:33.715705Z",
          "iopub.execute_input": "2025-04-12T03:48:33.716219Z",
          "iopub.status.idle": "2025-04-12T03:48:36.715016Z",
          "shell.execute_reply.started": "2025-04-12T03:48:33.716197Z",
          "shell.execute_reply": "2025-04-12T03:48:36.714302Z"
        },
        "trusted": true,
        "id": "_QZOLONKLCQ6",
        "outputId": "e5eba313-bea2-4221-92ae-aeaf56959afd",
        "colab": {
          "base_uri": "https://localhost:8080/"
        }
      },
      "outputs": [
        {
          "output_type": "stream",
          "name": "stdout",
          "text": [
            "Found 5117 files belonging to 2 classes.\n",
            "Found 5051 files belonging to 2 classes.\n"
          ]
        }
      ],
      "execution_count": null
    },
    {
      "cell_type": "markdown",
      "source": [
        "The **InceptionV1** model pretrained on ImageNet is available in the [TensorFlow Hub](https://www.tensorflow.org/hub/) repository, but we'll load it from a local copy. Run this cell to load InceptionV1 for your base."
      ],
      "metadata": {
        "id": "AkhvsdhnLCQ7"
      }
    },
    {
      "cell_type": "code",
      "source": [
        "!ls {ryanholbrook_cv_course_models_path}"
      ],
      "metadata": {
        "trusted": true,
        "execution": {
          "iopub.status.busy": "2025-04-12T03:54:19.310355Z",
          "iopub.execute_input": "2025-04-12T03:54:19.310608Z",
          "iopub.status.idle": "2025-04-12T03:54:19.456338Z",
          "shell.execute_reply.started": "2025-04-12T03:54:19.310592Z",
          "shell.execute_reply": "2025-04-12T03:54:19.455399Z"
        },
        "id": "R1t607nDLCQ7",
        "outputId": "483cc69e-29a4-4039-8a3f-f7578f92b117",
        "colab": {
          "base_uri": "https://localhost:8080/"
        }
      },
      "outputs": [
        {
          "output_type": "stream",
          "name": "stdout",
          "text": [
            "cv-course-models\n"
          ]
        }
      ],
      "execution_count": null
    },
    {
      "cell_type": "code",
      "source": [
        "import tensorflow_hub as hub\n",
        "\n",
        "# pretrained_base = tf.keras.models.load_model(\n",
        "#     f'{ryanholbrook_cv_course_models_path}/cv-course-models/inceptionv3'\n",
        "# )\n",
        "\n",
        "pretrained_base = tf.keras.applications.InceptionV3(\n",
        "    include_top=False,\n",
        "    weights='imagenet',\n",
        "    input_tensor=None,\n",
        "    input_shape=None,\n",
        "    pooling=None,\n",
        ")"
      ],
      "metadata": {
        "lines_to_next_cell": 0,
        "trusted": true,
        "id": "Ks76MsGeLCQ8"
      },
      "outputs": [],
      "execution_count": null
    },
    {
      "cell_type": "markdown",
      "source": [
        "# 1) Define Pretrained Base #\n",
        "\n",
        "Now that you have a pretrained base to do our feature extraction, decide whether this base should be trainable or not."
      ],
      "metadata": {
        "id": "6eoPlSkaLCQ8"
      }
    },
    {
      "cell_type": "code",
      "source": [
        "# YOUR_CODE_HERE\n",
        "pretrained_base.trainable = False\n",
        "\n",
        "# Check your answer\n",
        "# q_1.check()"
      ],
      "metadata": {
        "lines_to_next_cell": 0,
        "execution": {
          "iopub.status.busy": "2023-07-22T03:30:14.979868Z",
          "iopub.execute_input": "2023-07-22T03:30:14.980615Z",
          "iopub.status.idle": "2023-07-22T03:30:15.008957Z",
          "shell.execute_reply.started": "2023-07-22T03:30:14.980578Z",
          "shell.execute_reply": "2023-07-22T03:30:15.007975Z"
        },
        "trusted": true,
        "id": "RyFr7SQMLCQ9"
      },
      "outputs": [],
      "execution_count": null
    },
    {
      "cell_type": "code",
      "source": [
        "# Lines below will give you a hint or solution code\n",
        "# q_1.hint()\n",
        "# q_1.solution()"
      ],
      "metadata": {
        "execution": {
          "iopub.status.busy": "2023-07-22T03:30:18.154262Z",
          "iopub.execute_input": "2023-07-22T03:30:18.154827Z",
          "iopub.status.idle": "2023-07-22T03:30:18.171711Z",
          "shell.execute_reply.started": "2023-07-22T03:30:18.154795Z",
          "shell.execute_reply": "2023-07-22T03:30:18.170595Z"
        },
        "trusted": true,
        "id": "C4iHE6XxLCQ9"
      },
      "outputs": [],
      "execution_count": null
    },
    {
      "cell_type": "markdown",
      "source": [
        "# 2) Attach Head #\n",
        "\n",
        "Now that the base is defined to do the feature extraction, create a head of `Dense` layers to perform the classification, following this diagram:\n",
        "\n",
        "<figure>\n",
        "<img src=\"https://i.imgur.com/i5VU7Ry.png\" alt=\"Diagram of the dense head.\">\n",
        "</figure>\n"
      ],
      "metadata": {
        "id": "k-FWsaVDLCQ9"
      }
    },
    {
      "cell_type": "code",
      "source": [
        "for x,y in ds_train:\n",
        "    break"
      ],
      "metadata": {
        "id": "Rs7NmoXxURNt"
      },
      "execution_count": null,
      "outputs": []
    },
    {
      "cell_type": "code",
      "source": [
        "x.shape"
      ],
      "metadata": {
        "id": "BWQ2QmcAUZCb",
        "outputId": "7403da50-255d-486d-d9f3-a3f6a2bc8f0b",
        "colab": {
          "base_uri": "https://localhost:8080/"
        }
      },
      "execution_count": null,
      "outputs": [
        {
          "output_type": "execute_result",
          "data": {
            "text/plain": [
              "TensorShape([64, 128, 128, 3])"
            ]
          },
          "metadata": {},
          "execution_count": 14
        }
      ]
    },
    {
      "cell_type": "code",
      "source": [
        "y.shape"
      ],
      "metadata": {
        "id": "ztHF7FjCUaxt",
        "outputId": "99cb5ce9-25ae-4584-cf77-1e07017c9c3e",
        "colab": {
          "base_uri": "https://localhost:8080/"
        }
      },
      "execution_count": null,
      "outputs": [
        {
          "output_type": "execute_result",
          "data": {
            "text/plain": [
              "TensorShape([64, 1])"
            ]
          },
          "metadata": {},
          "execution_count": 10
        }
      ]
    },
    {
      "cell_type": "code",
      "source": [
        "from tensorflow import keras\n",
        "from tensorflow.keras import layers\n",
        "\n",
        "model = keras.Sequential([\n",
        "    layers.Input(shape=(128,128,3)),\n",
        "    pretrained_base,\n",
        "    layers.Flatten(),\n",
        "    # YOUR CODE HERE. Attach a head of dense layers.\n",
        "    # ____\n",
        "    layers.Dense(units=6,activation='relu'),\n",
        "    layers.Dense(units=1,activation='sigmoid')\n",
        "])\n",
        "\n",
        "# Check your answer\n",
        "# q_2.check()"
      ],
      "metadata": {
        "lines_to_next_cell": 0,
        "execution": {
          "iopub.status.busy": "2023-07-22T03:30:53.208662Z",
          "iopub.execute_input": "2023-07-22T03:30:53.209141Z",
          "iopub.status.idle": "2023-07-22T03:30:54.222373Z",
          "shell.execute_reply.started": "2023-07-22T03:30:53.209101Z",
          "shell.execute_reply": "2023-07-22T03:30:54.221515Z"
        },
        "trusted": true,
        "id": "_V2e4SEHLCQ9"
      },
      "outputs": [],
      "execution_count": null
    },
    {
      "cell_type": "code",
      "source": [
        "# Lines below will give you a hint or solution code\n",
        "# q_2.hint()\n",
        "# q_2.solution()"
      ],
      "metadata": {
        "execution": {
          "iopub.status.busy": "2023-06-17T02:38:59.101049Z",
          "iopub.execute_input": "2023-06-17T02:38:59.101749Z",
          "iopub.status.idle": "2023-06-17T02:38:59.106323Z",
          "shell.execute_reply.started": "2023-06-17T02:38:59.101712Z",
          "shell.execute_reply": "2023-06-17T02:38:59.105189Z"
        },
        "trusted": true,
        "id": "wx1XG2HuLCQ-"
      },
      "outputs": [],
      "execution_count": null
    },
    {
      "cell_type": "markdown",
      "source": [
        "# 3) Train #\n",
        "\n",
        "Before training a model in Keras, you need to specify an *optimizer* to perform the gradient descent, a *loss function* to be minimized, and (optionally) any *performance metrics*. The optimization algorithm we'll use for this course is called [\"Adam\"](https://keras.io/api/optimizers/adam/), which generally performs well regardless of what kind of problem you're trying to solve.\n",
        "\n",
        "The loss and the metrics, however, need to match the kind of problem you're trying to solve. Our problem is a **binary classification** problem: `Car` coded as 0, and `Truck` coded as 1. Choose an appropriate loss and an appropriate accuracy metric for binary classification."
      ],
      "metadata": {
        "id": "tOIIqTJ2LCQ-"
      }
    },
    {
      "cell_type": "code",
      "source": [
        "# YOUR CODE HERE: what loss function should you use for a binary\n",
        "# classification problem? (Your answer for each should be a string.)\n",
        "optimizer = tf.keras.optimizers.Adam(epsilon=0.01)\n",
        "model.compile(\n",
        "    optimizer=optimizer,\n",
        "    loss = 'binary_crossentropy',\n",
        "    metrics=['binary_accuracy'],\n",
        ")\n",
        "\n",
        "# Check your answer\n",
        "# q_3.check()"
      ],
      "metadata": {
        "lines_to_next_cell": 0,
        "execution": {
          "iopub.status.busy": "2023-07-22T03:31:12.804525Z",
          "iopub.execute_input": "2023-07-22T03:31:12.804905Z",
          "iopub.status.idle": "2023-07-22T03:31:12.850282Z",
          "shell.execute_reply.started": "2023-07-22T03:31:12.804873Z",
          "shell.execute_reply": "2023-07-22T03:31:12.849292Z"
        },
        "trusted": true,
        "id": "yCfyNh95LCQ-"
      },
      "outputs": [],
      "execution_count": null
    },
    {
      "cell_type": "code",
      "source": [
        "# Lines below will give you a hint or solution code\n",
        "#q_3.hint()\n",
        "#q_3.solution()"
      ],
      "metadata": {
        "lines_to_next_cell": 0,
        "execution": {
          "iopub.status.busy": "2023-06-17T02:42:43.14033Z",
          "iopub.execute_input": "2023-06-17T02:42:43.141436Z",
          "iopub.status.idle": "2023-06-17T02:42:43.146612Z",
          "shell.execute_reply.started": "2023-06-17T02:42:43.141394Z",
          "shell.execute_reply": "2023-06-17T02:42:43.14557Z"
        },
        "trusted": true,
        "id": "IWss_Uh-LCQ-"
      },
      "outputs": [],
      "execution_count": null
    },
    {
      "cell_type": "code",
      "source": [
        "history = model.fit(\n",
        "    ds_train,\n",
        "    validation_data=ds_valid,\n",
        "    epochs=30,\n",
        ")"
      ],
      "metadata": {
        "execution": {
          "iopub.status.busy": "2023-07-22T03:31:16.861603Z",
          "iopub.execute_input": "2023-07-22T03:31:16.862218Z"
        },
        "trusted": true,
        "id": "wcjXcT-xLCQ_",
        "outputId": "f442da62-6e3e-44f5-db8a-c132794bd6bc",
        "colab": {
          "base_uri": "https://localhost:8080/"
        }
      },
      "outputs": [
        {
          "output_type": "stream",
          "name": "stdout",
          "text": [
            "Epoch 1/30\n",
            "\u001b[1m80/80\u001b[0m \u001b[32m━━━━━━━━━━━━━━━━━━━━\u001b[0m\u001b[37m\u001b[0m \u001b[1m30s\u001b[0m 231ms/step - binary_accuracy: 0.6813 - loss: 0.6030 - val_binary_accuracy: 0.6543 - val_loss: 0.5637\n",
            "Epoch 2/30\n",
            "\u001b[1m80/80\u001b[0m \u001b[32m━━━━━━━━━━━━━━━━━━━━\u001b[0m\u001b[37m\u001b[0m \u001b[1m9s\u001b[0m 119ms/step - binary_accuracy: 0.7477 - loss: 0.5076 - val_binary_accuracy: 0.7723 - val_loss: 0.4720\n",
            "Epoch 3/30\n",
            "\u001b[1m80/80\u001b[0m \u001b[32m━━━━━━━━━━━━━━━━━━━━\u001b[0m\u001b[37m\u001b[0m \u001b[1m10s\u001b[0m 120ms/step - binary_accuracy: 0.8075 - loss: 0.4199 - val_binary_accuracy: 0.8004 - val_loss: 0.4351\n",
            "Epoch 4/30\n",
            "\u001b[1m80/80\u001b[0m \u001b[32m━━━━━━━━━━━━━━━━━━━━\u001b[0m\u001b[37m\u001b[0m \u001b[1m9s\u001b[0m 118ms/step - binary_accuracy: 0.8206 - loss: 0.3843 - val_binary_accuracy: 0.7810 - val_loss: 0.4453\n",
            "Epoch 5/30\n",
            "\u001b[1m80/80\u001b[0m \u001b[32m━━━━━━━━━━━━━━━━━━━━\u001b[0m\u001b[37m\u001b[0m \u001b[1m0s\u001b[0m 59ms/step - binary_accuracy: 0.8376 - loss: 0.3749"
          ]
        }
      ],
      "execution_count": null
    },
    {
      "cell_type": "markdown",
      "source": [
        "Run the cell below to plot the loss and metric curves for this training run."
      ],
      "metadata": {
        "id": "ptWDdywLLCQ_"
      }
    },
    {
      "cell_type": "code",
      "source": [
        "import pandas as pd\n",
        "history_frame = pd.DataFrame(history.history)\n",
        "history_frame.loc[:, ['loss', 'val_loss']].plot()\n",
        "history_frame.loc[:, ['binary_accuracy', 'val_binary_accuracy']].plot();"
      ],
      "metadata": {
        "execution": {
          "iopub.status.busy": "2023-06-17T02:45:48.100229Z",
          "iopub.execute_input": "2023-06-17T02:45:48.101332Z",
          "iopub.status.idle": "2023-06-17T02:45:49.015198Z",
          "shell.execute_reply.started": "2023-06-17T02:45:48.101285Z",
          "shell.execute_reply": "2023-06-17T02:45:49.014309Z"
        },
        "trusted": true,
        "id": "43TbyuTpLCQ_",
        "outputId": "663d9baf-85d5-4787-9c6e-e4b7aeaf0227"
      },
      "outputs": [
        {
          "output_type": "display_data",
          "data": {
            "text/plain": "<Figure size 640x480 with 1 Axes>",
            "image/png": "[encoded data removed]"
          },
          "metadata": {}
        },
        {
          "output_type": "display_data",
          "data": {
            "text/plain": "<Figure size 640x480 with 1 Axes>",
            "image/png": "[encoded data removed]"
          },
          "metadata": {}
        }
      ],
      "execution_count": null
    },
    {
      "cell_type": "markdown",
      "source": [
        "# 4) Examine Loss and Accuracy #\n",
        "\n",
        "Do you notice a difference between these learning curves and the curves for VGG16 from the tutorial? What does this difference tell you about what this model (InceptionV2) learned compared to VGG16? Are there ways in which one is better than the other? Worse?\n",
        "\n",
        "After you've thought about it, run the cell below to see the answer."
      ],
      "metadata": {
        "id": "XoxFzvbeLCQ_"
      }
    },
    {
      "cell_type": "code",
      "source": [
        "# View the solution (Run this code cell to receive credit!)\n",
        "q_4.check()"
      ],
      "metadata": {
        "trusted": true,
        "id": "FyvmAz-MLCQ_"
      },
      "outputs": [],
      "execution_count": null
    },
    {
      "cell_type": "markdown",
      "source": [
        "# Conclusion #\n",
        "\n",
        "In this first lesson, you learned the basics of **convolutional image classifiers**, that they consist of a **base** for extracting features from images, and a **head** which uses the features to decide the image's class. You also saw how to build a classifier with **transfer learning** on pretrained base."
      ],
      "metadata": {
        "id": "cFYTnLqPLCQ_"
      }
    },
    {
      "cell_type": "markdown",
      "source": [
        "# Keep Going #\n",
        "\n",
        "Move on to [**Lesson 2**](https://www.kaggle.com/ryanholbrook/convolution-and-relu) for a detailed look at how the base does this feature extraction. (It's really cool!)"
      ],
      "metadata": {
        "id": "HUD7H9CkLCQ_"
      }
    },
    {
      "cell_type": "markdown",
      "source": [
        "---\n",
        "\n",
        "\n",
        "\n",
        "\n",
        "*Have questions or comments? Visit the [Learn Discussion forum](https://www.kaggle.com/learn-forum) to chat with other Learners.*"
      ],
      "metadata": {
        "id": "-6Uq0v3fLCRA"
      }
    }
  ]
}